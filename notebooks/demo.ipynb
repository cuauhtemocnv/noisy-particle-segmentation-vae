{
 "cells": [
  {
   "cell_type": "markdown",
   "metadata": {},
   "source": [
    "# 🧩 Noisy Particle Segmentation with Autoencoder\n",
    "This notebook demonstrates:\n",
    "- Generating the noisy dataset\n",
    "- Training the convolutional autoencoder\n",
    "- Visualizing reconstructions\n",
    "- Exploring the latent space with PCA"
   ]
  },
  {
   "cell_type": "code",
   "metadata": {},
   "source": [
    "# Install dependencies (if needed)\n",
    "!pip install torch torchvision matplotlib scikit-image scikit-learn"
   ]
  },
  {
   "cell_type": "code",
   "metadata": {},
   "source": [
    "import torch\n",
    "import matplotlib.pyplot as plt\n",
    "from torch.utils.data import DataLoader\n",
    "\n",
    "from src.dataset import NoisySegDataset\n",
    "from src.model import Autoencoder1D\n",
    "from src.utils import weighted_mse\n",
    "from src.visualize import visualize_reconstructions, visualize_latent_space"
   ]
  },
  {
   "cell_type": "markdown",
   "metadata": {},
   "source": [
    "## 1. Create dataset"
   ]
  },
  {
   "cell_type": "code",
   "metadata": {},
   "source": [
    "dataset = NoisySegDataset(n_samples=500, img_size=128)\n",
    "print(\"Dataset size:\", len(dataset))\n",
    "\n",
    "# Show a sample\n",
    "x, y = dataset[0]\n",
    "plt.imshow(x.squeeze(), cmap='gray')\n",
    "plt.title(\"Example Noisy Input\")\n",
    "plt.axis('off')\n",
    "plt.show()"
   ]
  },
  {
   "cell_type": "markdown",
   "metadata": {},
   "source": [
    "## 2. Train Autoencoder"
   ]
  },
  {
   "cell_type": "code",
   "metadata": {},
   "source": [
    "device = \"cuda\" if torch.cuda.is_available() else \"cpu\"\n",
    "model = Autoencoder1D(latent_dim=512).to(device)\n",
    "loader = DataLoader(dataset, batch_size=32, shuffle=True)\n",
    "optimizer = torch.optim.Adam(model.parameters(), lr=1e-3)\n",
    "\n",
    "epochs = 20  # keep small for demo\n",
    "for epoch in range(epochs):\n",
    "    model.train()\n",
    "    total_loss = 0\n",
    "    for x, y in loader:\n",
    "        x, y = x.to(device), y.to(device)\n",
    "        optimizer.zero_grad()\n",
    "        out = model(x)\n",
    "        loss = weighted_mse(out, y, weight=20.0)\n",
    "        loss.backward()\n",
    "        optimizer.step()\n",
    "        total_loss += loss.item()\n",
    "    print(f\"Epoch {epoch+1}/{epochs} Loss: {total_loss/len(loader):.4f}\")"
   ]
  },
  {
   "cell_type": "markdown",
   "metadata": {},
   "source": [
    "## 3. Visualize Reconstructions"
   ]
  },
  {
   "cell_type": "code",
   "metadata": {},
   "source": [
    "visualize_reconstructions(model, dataset, device, n=3)"
   ]
  },
  {
   "cell_type": "markdown",
   "metadata": {},
   "source": [
    "## 4. Latent Space Visualization"
   ]
  },
  {
   "cell_type": "code",
   "metadata": {},
   "source": [
    "visualize_latent_space(model, dataset, device)"
   ]
  },
  {
   "cell_type": "markdown",
   "metadata": {},
   "source": [
    "🎉 Done! You can also sample new latent vectors manually using PCA directions for generative exploration."
   ]
  }
 ],
 "metadata": {
  "kernelspec": {
   "display_name": "Python 3",
   "language": "python",
   "name": "python3"
  },
  "language_info": {
   "name": "python",
   "version": "3.10"
  }
 },
 "nbformat": 4,
 "nbformat_minor": 5
}
