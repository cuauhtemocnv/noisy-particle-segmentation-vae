{
 "cells": [
  {
   "cell_type": "markdown",
   "id": "501a29bc",
   "metadata": {},
   "source": [
    "# 🧩 Noisy Particle Segmentation with Autoencoder\n",
    "This notebook demonstrates:\n",
    "- Generating the noisy dataset\n",
    "- Training the convolutional autoencoder\n",
    "- Visualizing reconstructions\n",
    "- Exploring the latent space with PCA"
   ]
  },
  {
   "cell_type": "code",
   "execution_count": null,
   "id": "a1252c3e",
   "metadata": {},
   "outputs": [],
   "source": [
    "# Install dependencies (if needed)\n",
    "!pip install torch torchvision matplotlib scikit-image scikit-learn"
   ]
  },
  {
   "cell_type": "code",
   "execution_count": null,
   "id": "ad076833",
   "metadata": {},
   "outputs": [],
   "source": [
    "import torch\n",
    "import matplotlib.pyplot as plt\n",
    "from torch.utils.data import DataLoader\n",
    "\n",
    "from src.dataset import NoisySegDataset\n",
    "from src.model import Autoencoder1D\n",
    "from src.utils import weighted_mse\n",
    "from src.visualize import visualize_reconstructions, visualize_latent_space"
   ]
  },
  {
   "cell_type": "markdown",
   "id": "74bf839a",
   "metadata": {},
   "source": [
    "## 1. Create dataset"
   ]
  },
  {
   "cell_type": "code",
   "execution_count": null,
   "id": "b1d2b4e0",
   "metadata": {},
   "outputs": [],
   "source": [
    "dataset = NoisySegDataset(n_samples=500, img_size=128)\n",
    "print(\"Dataset size:\", len(dataset))\n",
    "\n",
    "# Show a sample\n",
    "x, y = dataset[0]\n",
    "plt.imshow(x.squeeze(), cmap='gray')\n",
    "plt.title(\"Example Noisy Input\")\n",
    "plt.axis('off')\n",
    "plt.show()"
   ]
  },
  {
   "cell_type": "markdown",
   "id": "1d0df4d2",
   "metadata": {},
   "source": [
    "## 2. Train Autoencoder"
   ]
  },
  {
   "cell_type": "code",
   "execution_count": null,
   "id": "e4ea0d90",
   "metadata": {},
   "outputs": [],
   "source": [
    "device = \"cuda\" if torch.cuda.is_available() else \"cpu\"\n",
    "model = Autoencoder1D(latent_dim=512).to(device)\n",
    "loader = DataLoader(dataset, batch_size=32, shuffle=True)\n",
    "optimizer = torch.optim.Adam(model.parameters(), lr=1e-3)\n",
    "\n",
    "epochs = 20  # keep small for demo\n",
    "for epoch in range(epochs):\n",
    "    model.train()\n",
    "    total_loss = 0\n",
    "    for x, y in loader:\n",
    "        x, y = x.to(device), y.to(device)\n",
    "        optimizer.zero_grad()\n",
    "        out = model(x)\n",
    "        loss = weighted_mse(out, y, weight=20.0)\n",
    "        loss.backward()\n",
    "        optimizer.step()\n",
    "        total_loss += loss.item()\n",
    "    print(f\"Epoch {epoch+1}/{epochs} Loss: {total_loss/len(loader):.4f}\")"
   ]
  },
  {
   "cell_type": "markdown",
   "id": "b96bc9af",
   "metadata": {},
   "source": [
    "## 3. Visualize Reconstructions"
   ]
  },
  {
   "cell_type": "code",
   "execution_count": null,
   "id": "c0c744f9",
   "metadata": {},
   "outputs": [],
   "source": [
    "visualize_reconstructions(model, dataset, device, n=3)"
   ]
  },
  {
   "cell_type": "markdown",
   "id": "89f5e688",
   "metadata": {},
   "source": [
    "## 4. Latent Space Visualization"
   ]
  },
  {
   "cell_type": "code",
   "execution_count": null,
   "id": "d6610654",
   "metadata": {},
   "outputs": [],
   "source": [
    "visualize_latent_space(model, dataset, device)"
   ]
  },
  {
   "cell_type": "markdown",
   "id": "f067da17",
   "metadata": {},
   "source": [
    "## 5. Latent Sampling Playground 🎨"
   ]
  },
  {
   "cell_type": "code",
   "execution_count": null,
   "id": "5f491336",
   "metadata": {},
   "outputs": [],
   "source": [
    "import numpy as np\n",
    "from sklearn.decomposition import PCA\n",
    "\n",
    "# 1. Collect latent vectors from training set\n",
    "loader = DataLoader(dataset, batch_size=16, shuffle=False)\n",
    "latents = []\n",
    "model.eval()\n",
    "with torch.no_grad():\n",
    "    for x, _ in loader:\n",
    "        x = x.to(device)\n",
    "        z = model.encode(x)\n",
    "        latents.append(z.cpu().numpy())\n",
    "latents = np.vstack(latents)\n",
    "\n",
    "# 2. Center of mass\n",
    "center = latents.mean(axis=0)\n",
    "\n",
    "# 3. PCA for 2D exploration\n",
    "pca = PCA(n_components=2)\n",
    "latents_2d = pca.fit_transform(latents)\n",
    "center_2d = pca.transform(center.reshape(1, -1))\n",
    "\n",
    "# 4. Sample random vectors around the center\n",
    "r = 5.0  # distance in PCA space\n",
    "num_samples = 4\n",
    "plt.figure(figsize=(10, 3))\n",
    "\n",
    "for i in range(num_samples):\n",
    "    theta = np.random.rand() * 2 * np.pi\n",
    "    vec_2d = np.array([np.cos(theta), np.sin(theta)]) * r\n",
    "    vec_full = vec_2d @ pca.components_  # map back to latent_dim\n",
    "    z_new = center + vec_full\n",
    "\n",
    "    z_new_tensor = torch.tensor(z_new, dtype=torch.float32).unsqueeze(0).to(device)\n",
    "    with torch.no_grad():\n",
    "        generated = model.decode(z_new_tensor).cpu().squeeze().numpy()\n",
    "\n",
    "    plt.subplot(1, num_samples, i+1)\n",
    "    plt.imshow(generated, cmap=\"gray\")\n",
    "    plt.title(f\"Sample {i+1}\")\n",
    "    plt.axis(\"off\")\n",
    "\n",
    "plt.suptitle(\"Generated Shapes from Latent Sampling\", fontsize=14)\n",
    "plt.show()"
   ]
  },
  {
   "cell_type": "markdown",
   "id": "c2b7fa30",
   "metadata": {},
   "source": [
    "🎉 Done! You can also sample new latent vectors manually using PCA directions for generative exploration."
   ]
  }
 ],
 "metadata": {
  "kernelspec": {
   "display_name": "Python 3 (ipykernel)",
   "language": "python",
   "name": "python3"
  },
  "language_info": {
   "codemirror_mode": {
    "name": "ipython",
    "version": 3
   },
   "file_extension": ".py",
   "mimetype": "text/x-python",
   "name": "python",
   "nbconvert_exporter": "python",
   "pygments_lexer": "ipython3",
   "version": "3.12.3"
  }
 },
 "nbformat": 4,
 "nbformat_minor": 5
}
